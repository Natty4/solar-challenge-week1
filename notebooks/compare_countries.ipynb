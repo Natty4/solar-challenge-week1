{
 "cells": [
  {
   "cell_type": "markdown",
   "id": "16f51102",
   "metadata": {},
   "source": [
    "##  1: Imports and Setup"
   ]
  },
  {
   "cell_type": "code",
   "execution_count": null,
   "id": "f3ae8582",
   "metadata": {},
   "outputs": [],
   "source": [
    "import pandas as pd\n",
    "import matplotlib.pyplot as plt\n",
    "import seaborn as sns\n",
    "from scipy.stats import f_oneway, kruskal\n",
    "\n",
    "# Plot settings\n",
    "sns.set(style=\"whitegrid\")\n",
    "plt.rcParams[\"figure.figsize\"] = (10, 6)"
   ]
  },
  {
   "cell_type": "markdown",
   "id": "3238bc94",
   "metadata": {},
   "source": [
    "## 🔄 Load and Combine Cleaned Country Datasets\n",
    "\n",
    "We load cleaned solar datasets for Benin, Sierra Leone, and Togo. A `Country` column is added to allow grouping and comparison across datasets."
   ]
  },
  {
   "cell_type": "markdown",
   "id": "2f3ee897",
   "metadata": {},
   "source": [
    "📦 Cell 3: Load and Combine Data"
   ]
  },
  {
   "cell_type": "code",
   "execution_count": null,
   "id": "93be57f5",
   "metadata": {},
   "outputs": [],
   "source": [
    "# Load cleaned CSVs\n",
    "benin = pd.read_csv(\"../data/benin_clean.csv\")\n",
    "benin[\"Country\"] = \"Benin\"\n",
    "\n",
    "sierraleone = pd.read_csv(\"../data/sierraleone_clean.csv\")\n",
    "sierraleone[\"Country\"] = \"Sierra Leone\"\n",
    "\n",
    "togo = pd.read_csv(\"../data/togo_clean.csv\")\n",
    "togo[\"Country\"] = \"Togo\"\n",
    "\n",
    "# Concatenate into a single DataFrame\n",
    "df_all = pd.concat([benin, sierraleone, togo], ignore_index=True)\n",
    "df_all.head()"
   ]
  },
  {
   "cell_type": "markdown",
   "id": "85c5831d",
   "metadata": {},
   "source": [
    "## 📦 Boxplot Comparison of Solar Metrics\n",
    "\n",
    "The following plots compare the distribution of **GHI**, **DNI**, and **DHI** across Benin, Sierra Leone, and Togo."
   ]
  },
  {
   "cell_type": "code",
   "execution_count": null,
   "id": "ea6da354",
   "metadata": {},
   "outputs": [],
   "source": [
    "for metric in [\"GHI\", \"DNI\", \"DHI\"]:\n",
    "    plt.figure()\n",
    "    sns.boxplot(data=df_all, x=\"Country\", y=metric, palette=\"Set2\")\n",
    "    plt.title(f\"{metric} Distribution by Country\")\n",
    "    plt.ylabel(f\"{metric} (W/m²)\")\n",
    "    plt.xlabel(\"Country\")\n",
    "    plt.tight_layout()\n",
    "    plt.show()"
   ]
  },
  {
   "cell_type": "markdown",
   "id": "f6471ebe",
   "metadata": {},
   "source": [
    "## 📊 Summary Statistics by Country\n",
    "\n",
    "This table summarizes the **mean**, **median**, and **standard deviation** for each key solar metric grouped by country."
   ]
  },
  {
   "cell_type": "code",
   "execution_count": null,
   "id": "a94d618e",
   "metadata": {},
   "outputs": [],
   "source": [
    "summary = df_all.groupby(\"Country\")[[\"GHI\", \"DNI\", \"DHI\"]].agg([\"mean\", \"median\", \"std\"]).round(2)\n",
    "summary"
   ]
  },
  {
   "cell_type": "markdown",
   "id": "3503db39",
   "metadata": {},
   "source": [
    "## 🧪 Statistical Test for GHI Differences\n",
    "\n",
    "To evaluate if there are statistically significant differences in **GHI** across countries, we run:\n",
    "\n",
    "- **One-Way ANOVA** (assumes normal distribution)\n",
    "- **Kruskal–Wallis Test** (non-parametric)\n",
    "\n",
    "We report the p-values and interpret the results.\n"
   ]
  },
  {
   "cell_type": "code",
   "execution_count": null,
   "id": "aa2c3a33",
   "metadata": {},
   "outputs": [],
   "source": [
    "ghi_benin = benin[\"GHI\"].dropna()\n",
    "ghi_sierra = sierraleone[\"GHI\"].dropna()\n",
    "ghi_togo = togo[\"GHI\"].dropna()\n",
    "\n",
    "# One-Way ANOVA\n",
    "anova_stat, anova_p = f_oneway(ghi_benin, ghi_sierra, ghi_togo)\n",
    "\n",
    "# Kruskal-Wallis\n",
    "kruskal_stat, kruskal_p = kruskal(ghi_benin, ghi_sierra, ghi_togo)\n",
    "\n",
    "print(f\"ANOVA p-value: {anova_p:.4f}\")\n",
    "print(f\"Kruskal–Wallis p-value: {kruskal_p:.4f}\")"
   ]
  },
  {
   "cell_type": "markdown",
   "id": "1930991c",
   "metadata": {},
   "source": [
    "## 📌 Key Observations\n",
    "\n",
    "- **Togo** shows the **highest median GHI**, suggesting strong solar potential, but also exhibits higher variability.\n",
    "- **Benin** has relatively stable GHI and lower standard deviation, potentially indicating more consistent solar conditions.\n",
    "- **Sierra Leone** records the **lowest average GHI**, possibly due to cloudier coastal conditions."
   ]
  },
  {
   "cell_type": "markdown",
   "id": "cf0c70ed",
   "metadata": {},
   "source": [
    "## 🥇 Country Ranking by Average GHI\n"
   ]
  },
  {
   "cell_type": "code",
   "execution_count": null,
   "id": "a7343b0b",
   "metadata": {},
   "outputs": [],
   "source": [
    "avg_ghi = df_all.groupby(\"Country\")[\"GHI\"].mean().sort_values(ascending=False)\n",
    "\n",
    "sns.barplot(x=avg_ghi.values, y=avg_ghi.index, palette=\"viridis\")\n",
    "plt.xlabel(\"Average GHI (W/m²)\")\n",
    "plt.title(\"Average GHI by Country\")\n",
    "plt.tight_layout()\n",
    "plt.show()"
   ]
  },
  {
   "cell_type": "code",
   "execution_count": null,
   "id": "c78157e1",
   "metadata": {},
   "outputs": [],
   "source": []
  },
  {
   "cell_type": "markdown",
   "id": "fc6c66e3",
   "metadata": {},
   "source": []
  }
 ],
 "metadata": {
  "kernelspec": {
   "display_name": "envX",
   "language": "python",
   "name": "python3"
  },
  "language_info": {
   "codemirror_mode": {
    "name": "ipython",
    "version": 3
   },
   "file_extension": ".py",
   "mimetype": "text/x-python",
   "name": "python",
   "nbconvert_exporter": "python",
   "pygments_lexer": "ipython3",
   "version": "3.10.13"
  }
 },
 "nbformat": 4,
 "nbformat_minor": 5
}
