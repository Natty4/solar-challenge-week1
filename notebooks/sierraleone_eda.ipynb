{
 "cells": [
  {
   "cell_type": "markdown",
   "id": "15afcc12",
   "metadata": {},
   "source": [
    "# 🌞 Solar Data - EDA & Cleaning: Sierraleone\n",
    "\n",
    "* Goal: Profile, clean, and explore Sierraleone's solar dataset so it's ready for comparison and ranking across countries."
   ]
  },
  {
   "cell_type": "markdown",
   "id": "2c5b863f",
   "metadata": {},
   "source": [
    "## 🛠️ Setup & Imports\n",
    "\n",
    "We load the necessary packages and prepare the notebook for data profiling and EDA.  \n",
    "The solar data for **Sierraleone** is loaded from the raw dataset folder."
   ]
  },
  {
   "cell_type": "code",
   "execution_count": null,
   "id": "13b2c4c7",
   "metadata": {},
   "outputs": [],
   "source": [
    "import sys, pathlib\n",
    "sys.path.append(str(pathlib.Path.cwd().parent / 'src'))\n",
    "\n",
    "import pandas as pd\n",
    "import matplotlib.pyplot as plt\n",
    "import seaborn as sns\n",
    "from solar_eda import load_raw, SolarCleaner, SolarEDA\n",
    "# === 0. Setup ===\n",
    "COUNTRY = \"sierraleone\"  # change this per country\n",
    "df = load_raw(f\"../data/raw/{COUNTRY}.csv\")"
   ]
  },
  {
   "cell_type": "markdown",
   "id": "5f0c6c96",
   "metadata": {},
   "source": [
    "## 📊 1. Data Profiling\n",
    "\n",
    "We begin by inspecting the structure and quality of the dataset:\n",
    "\n",
    "* We visualize the distribution of values (negative, zero, positive) to guide cleaning decisions."
   ]
  },
  {
   "cell_type": "code",
   "execution_count": null,
   "id": "ef14cc7e",
   "metadata": {},
   "outputs": [],
   "source": [
    "df.info()\n",
    "df.describe().T  # Summary stats\n",
    "SolarEDA.missing_table(df, mv_thresh=0.05)  # >5% missing\n",
    "SolarEDA.dtype_summary(df)\n",
    "SolarCleaner.plot_value_distribution_summary(df, title=\"Raw Data - Value Distribution\")"
   ]
  },
  {
   "cell_type": "markdown",
   "id": "a774cc7d",
   "metadata": {},
   "source": [
    "## 🧹 2. Cleaning Pipeline\n",
    "\n",
    "We apply the custom cleaning logic using **SolarCleaner**, which includes:\n",
    "\n",
    "\n",
    "* The cleaned dataset is then saved locally."
   ]
  },
  {
   "cell_type": "code",
   "execution_count": null,
   "id": "7283b173",
   "metadata": {},
   "outputs": [],
   "source": [
    "cleaner = SolarCleaner()\n",
    "df_clean = cleaner.clean(df)\n",
    "df_clean.to_csv(f\"../data/{COUNTRY}_clean.csv\", index=False)"
   ]
  },
  {
   "cell_type": "markdown",
   "id": "fee66faf",
   "metadata": {},
   "source": [
    "## 📈 3. Time Series Analysis\n",
    "\n",
    "We explore the temporal behavior of key variables:\n",
    "\n",
    "* **line_overview()** shows overall trends over time.\n",
    "* **diurnal_curve()** captures solar performance across the day.\n",
    "* **monthly_facets()** highlights seasonal or monthly variations.\n",
    "\n",
    "These insights help identify time-based patterns and anomalies."
   ]
  },
  {
   "cell_type": "code",
   "execution_count": null,
   "id": "c6997d8c",
   "metadata": {},
   "outputs": [],
   "source": [
    "SolarEDA.line_overview(df_clean)\n",
    "SolarEDA.diurnal_curve(df_clean)\n",
    "SolarEDA.monthly_facets(df_clean)"
   ]
  },
  {
   "cell_type": "markdown",
   "id": "99b04e20",
   "metadata": {},
   "source": [
    "## 🧼 4. Cleaning Impact\n",
    "\n",
    "We evaluate how the **Cleaning** flag (e.g., physical panel cleaning) affects power output:\n",
    "\n",
    "* Average values of **ModA** and **ModB** are compared before vs. after cleaning events.\n",
    "* This analysis helps understand operational effects on performance."
   ]
  },
  {
   "cell_type": "code",
   "execution_count": null,
   "id": "ece427e6",
   "metadata": {},
   "outputs": [],
   "source": [
    "if 'Cleaning' in df_clean.columns:\n",
    "    SolarEDA.cleaning_impact(df_clean)"
   ]
  },
  {
   "cell_type": "markdown",
   "id": "26b7bf30",
   "metadata": {},
   "source": [
    "## 🔗 5. Correlation & Relationships\n",
    "\n",
    "We examine the correlation matrix between key engineered features:\n",
    "\n",
    "* Focused on solar irradiance, module temperature, humidity, and time features.\n",
    "* Includes both heatmap and optional scatter plots (e.g., **wind speed** vs. **GHI**).\n",
    "\n",
    "This helps us identify linear relationships and potential multicollinearity."
   ]
  },
  {
   "cell_type": "code",
   "execution_count": null,
   "id": "aacffe4a",
   "metadata": {},
   "outputs": [],
   "source": [
    "engineered_cols = ['GHI', 'DNI', 'DHI', 'ModA', 'ModB', 'Tamb', 'RH']\n",
    "SolarEDA.corr_heatmap(df_clean, engineered_cols, only_engineered=False)"
   ]
  },
  {
   "cell_type": "markdown",
   "id": "58553d58",
   "metadata": {},
   "source": [
    "## 💨 6. Wind & Distribution\n",
    "\n",
    "We visualize wind conditions and general variable distributions:\n",
    "\n",
    "* Wind rose plot summarizes direction and intensity.\n",
    "* Histograms show distribution of key variables like **GHI** and **WS**.\n",
    "\n",
    "These insights are useful for both energy yield and system design decisions."
   ]
  },
  {
   "cell_type": "code",
   "execution_count": null,
   "id": "66c9de6e",
   "metadata": {},
   "outputs": [],
   "source": [
    "SolarEDA.wind_rose(df_clean)\n",
    "df_clean[['GHI', 'WS']].hist(figsize=(10,4), bins=40)"
   ]
  },
  {
   "cell_type": "markdown",
   "id": "7c3d6f98",
   "metadata": {},
   "source": [
    "## 🌡️ 7. Temperature & Humidity Interactions\n",
    "\n",
    "We analyze how relative humidity (**RH**) correlates with:\n",
    "\n",
    "* Ambient temperature (**Tamb**)\n",
    "* Global Horizontal Irradiance (**GHI**)\n",
    "\n",
    "This helps explain atmospheric influences on solar generation and heat buildup."
   ]
  },
  {
   "cell_type": "code",
   "execution_count": null,
   "id": "6886d51e",
   "metadata": {},
   "outputs": [],
   "source": [
    "sns.scatterplot(data=df_clean, x='RH', y='GHI', alpha=0.3)\n",
    "sns.scatterplot(data=df_clean, x='RH', y='Tamb', alpha=0.3)"
   ]
  },
  {
   "cell_type": "markdown",
   "id": "e0f3fc4c",
   "metadata": {},
   "source": [
    "## 🔵 8. Bubble Chart: GHI vs Temperature\n",
    "\n",
    "We visualize a multi-variable relationship:\n",
    "\n",
    "* X-axis: Ambient Temperature (**Tamb**)\n",
    "* Y-axis: Solar Irradiance (**GHI**)\n",
    "* Bubble Size: Relative Humidity (**RH**)\n",
    "\n",
    "This gives a compact overview of how climate affects solar output."
   ]
  },
  {
   "cell_type": "code",
   "execution_count": null,
   "id": "67658a8e",
   "metadata": {},
   "outputs": [],
   "source": [
    "SolarEDA.bubble_ghi_tamb(df_clean)"
   ]
  },
  {
   "cell_type": "markdown",
   "id": "75781c83",
   "metadata": {},
   "source": [
    "## 🧮 9. Value Distribution After Cleaning\n",
    "\n",
    "We revisit the value distribution plot:\n",
    "\n",
    "* Shows how many values in each column are negative, zero, or positive.\n",
    "* Helps verify that cleaning steps were effective and no unexpected values remain."
   ]
  },
  {
   "cell_type": "code",
   "execution_count": null,
   "id": "dd91d968",
   "metadata": {},
   "outputs": [],
   "source": [
    "SolarCleaner.plot_value_distribution_summary(df_clean, title=\"Cleaned Data - Value Distribution\")"
   ]
  },
  {
   "cell_type": "markdown",
   "id": "7e2d3168",
   "metadata": {},
   "source": [
    "## 💾 10. Save Cleaned Data\n",
    "\n",
    "The cleaned dataset is saved for use in regional comparison and ranking tasks.  \n",
    "Ensure the **data/** folder is included in **.gitignore** to avoid committing large CSV files."
   ]
  },
  {
   "cell_type": "code",
   "execution_count": null,
   "id": "30c89f42",
   "metadata": {},
   "outputs": [],
   "source": [
    "df_clean.to_csv(f\"../data/{COUNTRY}_clean.csv\", index=False)\n",
    "print(f\"Cleaned data saved for {COUNTRY}.\")"
   ]
  }
 ],
 "metadata": {
  "kernelspec": {
   "display_name": "envX",
   "language": "python",
   "name": "python3"
  },
  "language_info": {
   "codemirror_mode": {
    "name": "ipython",
    "version": 3
   },
   "file_extension": ".py",
   "mimetype": "text/x-python",
   "name": "python",
   "nbconvert_exporter": "python",
   "pygments_lexer": "ipython3",
   "version": "3.10.13"
  }
 },
 "nbformat": 4,
 "nbformat_minor": 5
}
