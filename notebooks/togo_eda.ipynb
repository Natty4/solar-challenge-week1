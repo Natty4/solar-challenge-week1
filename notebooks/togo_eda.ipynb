{
 "cells": [
  {
   "cell_type": "markdown",
   "id": "d50a9812",
   "metadata": {},
   "source": [
    "# 🌞 Solar Data - EDA & Cleaning: Togo\n",
    "\n",
    "* Goal: Profile, clean, and explore Togo's solar dataset so it's ready for comparison and ranking across countries."
   ]
  },
  {
   "cell_type": "markdown",
   "id": "1736a57c",
   "metadata": {},
   "source": [
    "## 🛠️ Setup & Imports\n",
    "\n",
    "We load the necessary packages and prepare the notebook for data profiling and EDA.  \n",
    "The solar data for **Togo** is loaded from the raw dataset folder."
   ]
  },
  {
   "cell_type": "code",
   "execution_count": null,
   "id": "07e0c747",
   "metadata": {},
   "outputs": [],
   "source": [
    "import sys, pathlib\n",
    "sys.path.append(str(pathlib.Path.cwd().parent / 'src'))\n",
    "\n",
    "import pandas as pd\n",
    "import matplotlib.pyplot as plt\n",
    "import seaborn as sns\n",
    "from solar_eda import load_raw, SolarCleaner, SolarEDA\n",
    "\n",
    "COUNTRY = \"togo\"  \n",
    "df = load_raw(f\"../data/raw/{COUNTRY}.csv\")"
   ]
  },
  {
   "cell_type": "markdown",
   "id": "3e5e8359",
   "metadata": {},
   "source": [
    "## 📊 1. Data Profiling\n",
    "\n",
    "We begin by inspecting the structure and quality of the dataset:\n",
    "\n",
    "* We visualize the distribution of values (negative, zero, positive) to guide cleaning decisions."
   ]
  },
  {
   "cell_type": "code",
   "execution_count": null,
   "id": "d5568696",
   "metadata": {},
   "outputs": [],
   "source": [
    "df.info()\n",
    "df.describe().T  # Summary stats\n",
    "SolarEDA.missing_table(df, mv_thresh=0.05)  # >5% missing\n",
    "SolarEDA.dtype_summary(df)\n",
    "SolarCleaner.plot_value_distribution_summary(df, title=\"Raw Data - Value Distribution\")"
   ]
  },
  {
   "cell_type": "markdown",
   "id": "1ba2f23e",
   "metadata": {},
   "source": [
    "## 🧹 2. Cleaning Pipeline\n",
    "\n",
    "We apply the custom cleaning logic using **SolarCleaner**, which includes:\n",
    "\n",
    "\n",
    "* The cleaned dataset is then saved locally."
   ]
  },
  {
   "cell_type": "code",
   "execution_count": null,
   "id": "f1c06bef",
   "metadata": {},
   "outputs": [],
   "source": [
    "cleaner = SolarCleaner()\n",
    "df_clean = cleaner.clean(df)\n",
    "df_clean.to_csv(f\"../data/{COUNTRY}_clean.csv\", index=False)"
   ]
  },
  {
   "cell_type": "markdown",
   "id": "8062ac51",
   "metadata": {},
   "source": [
    "## 📈 3. Time Series Analysis\n",
    "\n",
    "We explore the temporal behavior of key variables:\n",
    "\n",
    "* **line_overview()** shows overall trends over time.\n",
    "* **diurnal_curve()** captures solar performance across the day.\n",
    "* **monthly_facets()** highlights seasonal or monthly variations.\n",
    "\n",
    "These insights help identify time-based patterns and anomalies."
   ]
  },
  {
   "cell_type": "code",
   "execution_count": null,
   "id": "5fee8782",
   "metadata": {},
   "outputs": [],
   "source": [
    "SolarEDA.line_overview(df_clean)\n",
    "SolarEDA.diurnal_curve(df_clean)\n",
    "SolarEDA.monthly_facets(df_clean)"
   ]
  },
  {
   "cell_type": "markdown",
   "id": "0186ba67",
   "metadata": {},
   "source": [
    "## 🧼 4. Cleaning Impact\n",
    "\n",
    "We evaluate how the **Cleaning** flag (e.g., physical panel cleaning) affects power output:\n",
    "\n",
    "* Average values of **ModA** and **ModB** are compared before vs. after cleaning events.\n",
    "* This analysis helps understand operational effects on performance."
   ]
  },
  {
   "cell_type": "code",
   "execution_count": null,
   "id": "bc02e2cd",
   "metadata": {},
   "outputs": [],
   "source": [
    "if 'Cleaning' in df_clean.columns:\n",
    "    SolarEDA.cleaning_impact(df_clean)"
   ]
  },
  {
   "cell_type": "markdown",
   "id": "7ea0233d",
   "metadata": {},
   "source": [
    "## 🔗 5. Correlation & Relationships\n",
    "\n",
    "We examine the correlation matrix between key engineered features:\n",
    "\n",
    "* Focused on solar irradiance, module temperature, humidity, and time features.\n",
    "* Includes both heatmap and optional scatter plots (e.g., **wind speed** vs. **GHI**).\n",
    "\n",
    "This helps us identify linear relationships and potential multicollinearity."
   ]
  },
  {
   "cell_type": "code",
   "execution_count": null,
   "id": "8416f274",
   "metadata": {},
   "outputs": [],
   "source": [
    "engineered_cols = ['GHI', 'DNI', 'DHI', 'ModA', 'ModB', 'Tamb', 'RH']\n",
    "SolarEDA.corr_heatmap(df_clean, engineered_cols, only_engineered=False)"
   ]
  },
  {
   "cell_type": "markdown",
   "id": "004f634d",
   "metadata": {},
   "source": [
    "## 💨 6. Wind & Distribution\n",
    "\n",
    "We visualize wind conditions and general variable distributions:\n",
    "\n",
    "* Wind rose plot summarizes direction and intensity.\n",
    "* Histograms show distribution of key variables like **GHI** and **WS**.\n",
    "\n",
    "These insights are useful for both energy yield and system design decisions."
   ]
  },
  {
   "cell_type": "code",
   "execution_count": null,
   "id": "67153253",
   "metadata": {},
   "outputs": [],
   "source": [
    "SolarEDA.wind_rose(df_clean)\n",
    "df_clean[['GHI', 'WS']].hist(figsize=(10,4), bins=40)"
   ]
  },
  {
   "cell_type": "markdown",
   "id": "8e7bcdbe",
   "metadata": {},
   "source": [
    "## 🌡️ 7. Temperature & Humidity Interactions\n",
    "\n",
    "We analyze how relative humidity (**RH**) correlates with:\n",
    "\n",
    "* Ambient temperature (**Tamb**)\n",
    "* Global Horizontal Irradiance (**GHI**)\n",
    "\n",
    "This helps explain atmospheric influences on solar generation and heat buildup."
   ]
  },
  {
   "cell_type": "code",
   "execution_count": null,
   "id": "8c505ab8",
   "metadata": {},
   "outputs": [],
   "source": [
    "sns.scatterplot(data=df_clean, x='RH', y='GHI', alpha=0.3)\n",
    "sns.scatterplot(data=df_clean, x='RH', y='Tamb', alpha=0.3)"
   ]
  },
  {
   "cell_type": "markdown",
   "id": "5bd5d6ec",
   "metadata": {},
   "source": [
    "## 🔵 8. Bubble Chart: GHI vs Temperature\n",
    "\n",
    "We visualize a multi-variable relationship:\n",
    "\n",
    "* X-axis: Ambient Temperature (**Tamb**)\n",
    "* Y-axis: Solar Irradiance (**GHI**)\n",
    "* Bubble Size: Relative Humidity (**RH**)\n",
    "\n",
    "This gives a compact overview of how climate affects solar output."
   ]
  },
  {
   "cell_type": "code",
   "execution_count": null,
   "id": "19942695",
   "metadata": {},
   "outputs": [],
   "source": [
    "SolarEDA.bubble_ghi_tamb(df_clean)"
   ]
  },
  {
   "cell_type": "markdown",
   "id": "058c1c81",
   "metadata": {},
   "source": [
    "## 🧮 9. Value Distribution After Cleaning\n",
    "\n",
    "We revisit the value distribution plot:\n",
    "\n",
    "* Shows how many values in each column are negative, zero, or positive.\n",
    "* Helps verify that cleaning steps were effective and no unexpected values remain."
   ]
  },
  {
   "cell_type": "code",
   "execution_count": null,
   "id": "2640fb34",
   "metadata": {},
   "outputs": [],
   "source": [
    "SolarCleaner.plot_value_distribution_summary(df_clean, title=\"Cleaned Data - Value Distribution\")"
   ]
  }
 ],
 "metadata": {
  "kernelspec": {
   "display_name": "envX",
   "language": "python",
   "name": "python3"
  },
  "language_info": {
   "codemirror_mode": {
    "name": "ipython",
    "version": 3
   },
   "file_extension": ".py",
   "mimetype": "text/x-python",
   "name": "python",
   "nbconvert_exporter": "python",
   "pygments_lexer": "ipython3",
   "version": "3.10.13"
  }
 },
 "nbformat": 4,
 "nbformat_minor": 5
}
